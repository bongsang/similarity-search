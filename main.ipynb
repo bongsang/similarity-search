{
 "cells": [
  {
   "cell_type": "markdown",
   "source": [
    "#### Background\n",
    "- A geology research company wants to create a tool for identifying interesting patterns in their imagery data. \n",
    "- This tool will possess a search capability whereby an analyst provides an image of interest and is presented with other images which are similar to it.\n",
    "\n",
    "#### Goal\n",
    "- Your task is to create the machine learning component for this image similarity application.\n",
    "- The machine learning model should return the top K images that are most similar to this image based on a single image input.\n",
    "\n",
    "#### Dataset\n",
    "DATADownload link: http://aws-proserve-data-science.s3.amazonaws.com/geological_similarity.zip"
   ],
   "metadata": {
    "collapsed": false,
    "pycharm": {
     "name": "#%% md\n"
    }
   }
  },
  {
   "cell_type": "markdown",
   "source": [
    "#### Data Analysis"
   ],
   "metadata": {
    "collapsed": false,
    "pycharm": {
     "name": "#%% md\n"
    }
   }
  }
 ],
 "metadata": {
  "kernelspec": {
   "display_name": "Python 3",
   "language": "python",
   "name": "python3"
  },
  "language_info": {
   "codemirror_mode": {
    "name": "ipython",
    "version": 2
   },
   "file_extension": ".py",
   "mimetype": "text/x-python",
   "name": "python",
   "nbconvert_exporter": "python",
   "pygments_lexer": "ipython2",
   "version": "2.7.6"
  },
  "pycharm": {
   "stem_cell": {
    "cell_type": "raw",
    "source": [],
    "metadata": {
     "collapsed": false
    }
   }
  }
 },
 "nbformat": 4,
 "nbformat_minor": 0
}