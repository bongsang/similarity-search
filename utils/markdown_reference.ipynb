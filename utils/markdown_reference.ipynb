{
 "cells": [
  {
   "cell_type": "markdown",
   "metadata": {
    "collapsed": true,
    "pycharm": {
     "is_executing": false,
     "name": "#%% md\n"
    }
   },
   "source": [
    "*italic* sample\n",
    "\n",
    "**bold** sample\n",
    "\n",
    "~~strike~~ sample\n",
    "\n",
    "*You **can** ~~combine~~ them*\n",
    "\n",
    "**You *can* ~~combine~~ them**\n",
    "\n",
    "link sample: [link to Google!](http://google.com)\n",
    "\n",
    "# h1 tag sample\n",
    "\n",
    "###### h6 tag sample\n",
    "\n",
    "####### h7 tag sample: There is no h7 tag !!!\n",
    "\n",
    "* Unordered item\n",
    "    * Unordered item\n",
    "        * Unordered item\n",
    "        * Unordered item\n",
    "\n",
    "\n",
    "1. Ordered item\n",
    "1. Ordered item\n",
    "    1. Orderd item\n",
    "    1. Ordered item\n",
    "\n",
    "```python\n",
    "def func() {\n",
    "    print(\"hello world\")\n",
    "}\n",
    "```\n",
    "\n",
    "- [x] Task1\n",
    "- [ ] Task2\n",
    "\n",
    "column1 | column2\n",
    "------- | ---------\n",
    "cell 1  | cell 2\n",
    "cell 3\n",
    "\n",
    "![Image of Yaktocat](https://octodex.github.com/images/yaktocat.png)\n",
    "<img src=https://octodex.github.com/images/yaktocat.png width=50%>\n"
   ]
  }
 ],
 "metadata": {
  "kernelspec": {
   "display_name": "Python 3",
   "language": "python",
   "name": "python3"
  },
  "language_info": {
   "codemirror_mode": {
    "name": "ipython",
    "version": 2
   },
   "file_extension": ".py",
   "mimetype": "text/x-python",
   "name": "python",
   "nbconvert_exporter": "python",
   "pygments_lexer": "ipython2",
   "version": "2.7.6"
  },
  "pycharm": {
   "stem_cell": {
    "cell_type": "raw",
    "source": [],
    "metadata": {
     "collapsed": false
    }
   }
  }
 },
 "nbformat": 4,
 "nbformat_minor": 0
}